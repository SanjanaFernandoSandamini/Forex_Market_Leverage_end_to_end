{
 "cells": [
  {
   "cell_type": "markdown",
   "metadata": {},
   "source": [
    "# 01-data-exploration.ipynb\n",
    "\n",
    "Explore raw data and basic statistics including new risk-based features"
   ]
  },
  {
   "cell_type": "code",
   "execution_count": null,
   "metadata": {},
   "outputs": [],
   "source": [
    "import pandas as pd\n",
    "import matplotlib.pyplot as plt\n",
    "\n",
    "# Load processed data (with features)\n",
    "df = pd.read_csv('data/processed/EURUSD_60min.csv', parse_dates=['timestamp'])\n",
    "\n",
    "print(df.head())\n",
    "\n",
    "# Plot price chart\n",
    "plt.figure(figsize=(12, 6))\n",
    "plt.plot(df['timestamp'], df['close'])\n",
    "plt.title('Close Price Over Time')\n",
    "plt.xlabel('Time')\n",
    "plt.ylabel('Price')\n",
    "plt.show()\n",
    "\n",
    "# Plot risk-based features distributions\n",
    "plt.figure(figsize=(12, 4))\n",
    "plt.subplot(1, 3, 1)\n",
    "plt.hist(df['pos_size_units'], bins=50, color='blue')\n",
    "plt.title('Position Size Units Distribution')\n",
    "\n",
    "plt.subplot(1, 3, 2)\n",
    "plt.hist(df['pos_used_leverage'], bins=50, color='orange')\n",
    "plt.title('Used Leverage Distribution')\n",
    "\n",
    "plt.subplot(1, 3, 3)\n",
    "plt.hist(df['pos_notional'], bins=50, color='green')\n",
    "plt.title('Notional Exposure Distribution')\n",
    "\n",
    "plt.tight_layout()\n",
    "plt.show()\n",
    "\n",
    "# Summary statistics of risk features\n",
    "print(df[['pos_size_units', 'pos_used_leverage', 'pos_notional']].describe())"
   ]
  }
 ],
 "metadata": {
  "kernelspec": {
   "display_name": "Python 3",
   "language": "python",
   "name": "python3"
  },
  "language_info": {
   "name": "python"
  }
 },
 "nbformat": 4,
 "nbformat_minor": 5
}
