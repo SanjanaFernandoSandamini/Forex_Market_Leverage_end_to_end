{
 "cells": [
  {
   "cell_type": "markdown",
   "metadata": {},
   "source": [
    "# 03-model-experiments.ipynb\n",
    "\n",
    "Train and compare baseline XGBoost with risk features included"
   ]
  },
  {
   "cell_type": "code",
   "execution_count": null,
   "metadata": {},
   "outputs": [],
   "source": [
    "import pandas as pd\n",
    "from src.models.train import prepare_data, train_xgb\n",
    "\n",
    "processed_file = 'data/processed/EURUSD_60min.csv'\n",
    "X, y = prepare_data(processed_file)\n",
    "\n",
    "print(f\"Training features shape: {X.shape}\")\n",
    "print(f\"Training target distribution:\\n{y.value_counts(normalize=True)}\")\n",
    "\n",
    "model, score = train_xgb(X, y)\n",
    "print(f\"Baseline XGBoost Accuracy (with risk features): {score:.4f}\")\n",
    "\n",
    "# Optional: feature importance plot\n",
    "import matplotlib.pyplot as plt\n",
    "import xgboost as xgb\n",
    "\n",
    "booster = model.get_booster()\n",
    "xgb.plot_importance(booster, importance_type='gain', max_num_features=10)\n",
    "plt.title('XGBoost Feature Importance')\n",
    "plt.show()"
   ]
  }
 ],
 "metadata": {
  "kernelspec": {
   "display_name": "Python 3",
   "language": "python",
   "name": "python3"
  },
  "language_info": {
   "name": "python"
  }
 },
 "nbformat": 4,
 "nbformat_minor": 5
}
