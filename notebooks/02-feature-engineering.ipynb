{
 "cells": [
  {
   "cell_type": "markdown",
   "metadata": {},
   "source": [
    "# 02-feature-engineering.ipynb\n",
    "\n",
    "Validate feature engineering including risk-based features"
   ]
  },
  {
   "cell_type": "code",
   "execution_count": null,
   "metadata": {},
   "outputs": [],
   "source": [
    "import pandas as pd\n",
    "from src.features.features import make_features\n",
    "\n",
    "df_raw = pd.read_csv('data/raw/EURUSD_60min.csv', parse_dates=['timestamp'])\n",
    "print(f\"Raw data shape: {df_raw.shape}\")\n",
    "\n",
    "df_feat = make_features(df_raw)\n",
    "\n",
    "print(f\"Features data shape: {df_feat.shape}\")\n",
    "print(df_feat.head())\n",
    "\n",
    "# Check for nulls\n",
    "print(\"Null values by column:\")\n",
    "print(df_feat.isnull().sum())\n",
    "\n",
    "# Correlation matrix with risk features\n",
    "corr = df_feat.corr()\n",
    "print(corr[['pos_size_units', 'pos_used_leverage', 'pos_notional']])\n",
    "\n",
    "# Plot correlation heatmap (optional)\n",
    "import seaborn as sns\n",
    "import matplotlib.pyplot as plt\n",
    "\n",
    "plt.figure(figsize=(10, 8))\n",
    "sns.heatmap(corr, annot=True, fmt='.2f', cmap='coolwarm')\n",
    "plt.title('Feature Correlation Matrix Including Risk Features')\n",
    "plt.show()"
   ]
  }
 ],
 "metadata": {
  "kernelspec": {
   "display_name": "Python 3",
   "language": "python",
   "name": "python3"
  },
  "language_info": {
   "name": "python"
  }
 },
 "nbformat": 4,
 "nbformat_minor": 5
}
