# 02-feature-engineering.ipynb

# Validate feature engineering including risk-based features

import pandas as pd
from src.features.features import make_features

df_raw = pd.read_csv('data/raw/EURUSD_60min.csv', parse_dates=['timestamp'])
print(f"Raw data shape: {df_raw.shape}")

df_feat = make_features(df_raw)

print(f"Features data shape: {df_feat.shape}")
print(df_feat.head())

# Check for nulls
print("Null values by column:")
print(df_feat.isnull().sum())

# Correlation matrix with risk features
corr = df_feat.corr()
print(corr[['pos_size_units', 'pos_used_leverage', 'pos_notional']])

# Plot correlation heatmap (optional)
import seaborn as sns
import matplotlib.pyplot as plt

plt.figure(figsize=(10, 8))
sns.heatmap(corr, annot=True, fmt='.2f', cmap='coolwarm')
plt.title('Feature Correlation Matrix Including Risk Features')
plt.show()
